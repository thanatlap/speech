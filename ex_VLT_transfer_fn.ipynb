{
 "cells": [
  {
   "cell_type": "markdown",
   "metadata": {},
   "source": [
    "This example shows how to obtain the volume velocity transfer function of the\n",
    "vocal tract based on vocal tract parameters for a certain phone in the speaker\n",
    "file.\n",
    "\n",
    "Look into example1.py for more thorough comments on how to interface\n",
    "vocaltractlab API from python3."
   ]
  },
  {
   "cell_type": "code",
   "execution_count": 1,
   "metadata": {},
   "outputs": [],
   "source": [
    "import ctypes\n",
    "import sys\n",
    "import matplotlib.pyplot as plt\n",
    "import numpy as np"
   ]
  },
  {
   "cell_type": "code",
   "execution_count": 2,
   "metadata": {},
   "outputs": [],
   "source": [
    "VTL = ctypes.cdll.LoadLibrary('vtlapi-2.1b/VocalTractLabApi64.so')"
   ]
  },
  {
   "cell_type": "code",
   "execution_count": 3,
   "metadata": {},
   "outputs": [
    {
     "name": "stdout",
     "output_type": "stream",
     "text": [
      "Compile date of the library: \"Mar 16 2016\"\n"
     ]
    }
   ],
   "source": [
    "version = ctypes.c_char_p(b'                                ')\n",
    "VTL.vtlGetVersion(version)\n",
    "print('Compile date of the library: \"%s\"' % version.value.decode())"
   ]
  },
  {
   "cell_type": "markdown",
   "metadata": {},
   "source": [
    "## Get some constants"
   ]
  },
  {
   "cell_type": "code",
   "execution_count": null,
   "metadata": {},
   "outputs": [],
   "source": [
    "audio_sampling_rate = ctypes.c_int(0)\n",
    "number_tube_sections = ctypes.c_int(0)\n",
    "number_vocal_tract_parameters = ctypes.c_int(0)\n",
    "number_glottis_parameters = ctypes.c_int(0)\n",
    "\n",
    "VTL.vtlGetConstants(ctypes.byref(audio_sampling_rate),\n",
    "                    ctypes.byref(number_tube_sections),\n",
    "                    ctypes.byref(number_vocal_tract_parameters),\n",
    "                    ctypes.byref(number_glottis_parameters))\n",
    "\n",
    "print('Audio sampling rate = %i' % audio_sampling_rate.value)\n",
    "print('Num. of tube sections = %i' % number_tube_sections.value)\n",
    "print('Num. of vocal tract parameters = %i' % number_vocal_tract_parameters.value)\n",
    "print('Num. of glottis parameters = %i' % number_glottis_parameters.value)"
   ]
  },
  {
   "cell_type": "code",
   "execution_count": null,
   "metadata": {},
   "outputs": [],
   "source": []
  }
 ],
 "metadata": {
  "kernelspec": {
   "display_name": "Python 3",
   "language": "python",
   "name": "python3"
  },
  "language_info": {
   "codemirror_mode": {
    "name": "ipython",
    "version": 3
   },
   "file_extension": ".py",
   "mimetype": "text/x-python",
   "name": "python",
   "nbconvert_exporter": "python",
   "pygments_lexer": "ipython3",
   "version": "3.6.5"
  }
 },
 "nbformat": 4,
 "nbformat_minor": 2
}
