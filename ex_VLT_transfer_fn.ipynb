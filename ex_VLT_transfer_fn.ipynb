{
 "cells": [
  {
   "cell_type": "markdown",
   "metadata": {},
   "source": [
    "This example shows how to obtain the volume velocity transfer function of the\n",
    "vocal tract based on vocal tract parameters for a certain phone in the speaker\n",
    "file.\n",
    "\n",
    "Look into example1.py for more thorough comments on how to interface\n",
    "vocaltractlab API from python3."
   ]
  },
  {
   "cell_type": "code",
   "execution_count": 1,
   "metadata": {},
   "outputs": [],
   "source": [
    "import ctypes\n",
    "import sys\n",
    "import matplotlib.pyplot as plt\n",
    "import numpy as np\n",
    "\n",
    "%matplotlib inline"
   ]
  },
  {
   "cell_type": "code",
   "execution_count": 2,
   "metadata": {},
   "outputs": [],
   "source": [
    "VTL = ctypes.cdll.LoadLibrary('vtlapi-2.1b/VocalTractLabApi64.so')"
   ]
  },
  {
   "cell_type": "code",
   "execution_count": 3,
   "metadata": {},
   "outputs": [
    {
     "name": "stdout",
     "output_type": "stream",
     "text": [
      "Compile date of the library: \"Mar 16 2016\"\n"
     ]
    }
   ],
   "source": [
    "version = ctypes.c_char_p(b'                                ')\n",
    "VTL.vtlGetVersion(version)\n",
    "print('Compile date of the library: \"%s\"' % version.value.decode())"
   ]
  },
  {
   "cell_type": "markdown",
   "metadata": {},
   "source": [
    "## Initialize vtl"
   ]
  },
  {
   "cell_type": "code",
   "execution_count": 5,
   "metadata": {},
   "outputs": [],
   "source": [
    "speaker_file_name = ctypes.c_char_p('vtlapi-2.1b/JD2.speaker'.encode())\n",
    "\n",
    "failure = VTL.vtlInitialize(speaker_file_name)\n",
    "if failure != 0:\n",
    "    raise ValueError('Error in vtlInitialize! Errorcode: %i' % failure)"
   ]
  },
  {
   "cell_type": "markdown",
   "metadata": {},
   "source": [
    "## Get some constants"
   ]
  },
  {
   "cell_type": "code",
   "execution_count": 6,
   "metadata": {},
   "outputs": [
    {
     "name": "stdout",
     "output_type": "stream",
     "text": [
      "Audio sampling rate = 22050\n",
      "Num. of tube sections = 40\n",
      "Num. of vocal tract parameters = 24\n",
      "Num. of glottis parameters = 6\n"
     ]
    }
   ],
   "source": [
    "audio_sampling_rate = ctypes.c_int(0)\n",
    "number_tube_sections = ctypes.c_int(0)\n",
    "number_vocal_tract_parameters = ctypes.c_int(0)\n",
    "number_glottis_parameters = ctypes.c_int(0)\n",
    "\n",
    "VTL.vtlGetConstants(ctypes.byref(audio_sampling_rate),\n",
    "                    ctypes.byref(number_tube_sections),\n",
    "                    ctypes.byref(number_vocal_tract_parameters),\n",
    "                    ctypes.byref(number_glottis_parameters))\n",
    "\n",
    "print('Audio sampling rate = %i' % audio_sampling_rate.value)\n",
    "print('Num. of tube sections = %i' % number_tube_sections.value)\n",
    "print('Num. of vocal tract parameters = %i' % number_vocal_tract_parameters.value)\n",
    "print('Num. of glottis parameters = %i' % number_glottis_parameters.value)"
   ]
  },
  {
   "cell_type": "markdown",
   "metadata": {},
   "source": [
    "## Get the vocal tract parameters \n",
    "- for the phone /a/, which are saved in the speaker file."
   ]
  },
  {
   "cell_type": "code",
   "execution_count": 7,
   "metadata": {},
   "outputs": [],
   "source": [
    "TRACT_PARAM_TYPE = ctypes.c_double * number_vocal_tract_parameters.value\n",
    "shape_name = ctypes.c_char_p(b'a')\n",
    "params_a = TRACT_PARAM_TYPE()\n",
    "\n",
    "failure = VTL.vtlGetTractParams(shape_name, ctypes.byref(params_a))\n",
    "if failure != 0:\n",
    "    raise ValueError('Error in vtlGetTractParams! Errorcode: %i' % failure)"
   ]
  },
  {
   "cell_type": "markdown",
   "metadata": {},
   "source": [
    "## Extract transfer function"
   ]
  },
  {
   "cell_type": "code",
   "execution_count": 8,
   "metadata": {},
   "outputs": [
    {
     "name": "stdout",
     "output_type": "stream",
     "text": [
      "First 40 data points for every vector:\n",
      "  magnitude_spectrum: [1.0171797623900083, 1.0171797623900083, 0.95365474550429, 0.9080445076477925, 0.8913119592706285, 0.8901587591643161, 0.8983363629146688, 0.9133191383092006, 0.9341764860828572, 0.9607594862630039, 0.9934188266885063, 1.0329609762341379, 1.0806573833446815, 1.1369547397193078, 1.193878918884664, 1.2522865741878337, 1.3309361532576347, 1.4293251583914115, 1.5481272302496636, 1.6917052768085123, 1.867111256073041, 2.0847309088780532, 2.360092269288461, 2.7173427723169357, 3.196090438244724, 3.865988540588798, 4.861529646594278, 6.479003808060988, 9.515608465574251, 16.96588309332864, 43.90117155336024, 25.685711504298926, 13.166813171713786, 8.930501023304965, 6.890010319960402, 5.716083706856928, 4.971541384938479, 4.474883781878095, 4.137819569306742, 3.912013723845171]\n",
      "  phase_spectrum: [-0.06782420528272795, -0.06782420528272795, -0.12815598877679324, -0.12491684616360982, -0.11004422054140489, -0.09661511982506639, -0.08608901428003868, -0.0780330930272126, -0.07187891825500228, -0.0672011781863866, -0.06375768990234103, -0.06157521970424849, -0.06135129425931224, -0.06566692732345544, -0.07529749614153812, -0.07557011132926923, -0.07109588055787709, -0.06881686725568402, -0.06855128942823727, -0.0697447951711545, -0.07219003600047587, -0.07591888295336187, -0.08115295686366651, -0.08833498065148311, -0.09825208529879842, -0.11233116988346573, -0.13336499210747724, -0.16756416670807683, -0.23187248457346116, -0.39270261151956365, -1.1646075918172019, -2.625343401928014, -2.909366693104496, -3.00051453380424, -3.0451234334812525, -3.072043803297852, -3.0902911595018363, -3.1035168423909325, -3.113915937525922, -3.1227845008092685]\n"
     ]
    }
   ],
   "source": [
    "NUM_SPECTRUM_SAMPLES = 1024\n",
    "SPECTRUM_TYPE = ctypes.c_double * NUM_SPECTRUM_SAMPLES\n",
    "magnitude_spectrum = SPECTRUM_TYPE()\n",
    "phase_spectrum = SPECTRUM_TYPE()  # in radiants\n",
    "\n",
    "VTL.vtlGetTransferFunction(ctypes.byref(params_a),  # input\n",
    "                           NUM_SPECTRUM_SAMPLES,  # input\n",
    "                           ctypes.byref(magnitude_spectrum),  # output\n",
    "                           ctypes.byref(phase_spectrum))  # output\n",
    "\n",
    "print('First 40 data points for every vector:')\n",
    "print('  magnitude_spectrum: %s' % str(list(magnitude_spectrum)[:40]))\n",
    "print('  phase_spectrum: %s' % str(list(phase_spectrum)[:40]))"
   ]
  },
  {
   "cell_type": "markdown",
   "metadata": {},
   "source": [
    "## Destroy current state of VTL and free memory"
   ]
  },
  {
   "cell_type": "code",
   "execution_count": 9,
   "metadata": {},
   "outputs": [
    {
     "data": {
      "text/plain": [
       "0"
      ]
     },
     "execution_count": 9,
     "metadata": {},
     "output_type": "execute_result"
    }
   ],
   "source": [
    "VTL.vtlClose()"
   ]
  },
  {
   "cell_type": "markdown",
   "metadata": {},
   "source": [
    "## Plot and play transfer function"
   ]
  },
  {
   "cell_type": "code",
   "execution_count": 16,
   "metadata": {},
   "outputs": [
    {
     "name": "stdout",
     "output_type": "stream",
     "text": [
      "\n",
      "Close the plot in order to continue.\n"
     ]
    },
    {
     "name": "stderr",
     "output_type": "stream",
     "text": [
      "/home/thanatlapthawan/anaconda3/lib/python3.6/site-packages/ipykernel_launcher.py:3: RuntimeWarning: divide by zero encountered in log10\n",
      "  This is separate from the ipykernel package so we can avoid doing imports until\n"
     ]
    },
    {
     "data": {
      "image/png": "[encoded data removed]",
      "text/plain": [
       "<Figure size 432x288 with 1 Axes>"
      ]
     },
     "metadata": {},
     "output_type": "display_data"
    }
   ],
   "source": [
    "frequency = np.arange(NUM_SPECTRUM_SAMPLES)\n",
    "frequency = np.multiply(frequency,audio_sampling_rate.value/ NUM_SPECTRUM_SAMPLES,out=frequency,casting='unsafe')\n",
    "plt.plot(frequency, 20 * np.log10(magnitude_spectrum), c='black',\n",
    "         linewidth=2.0, alpha=0.75, label='magnitude [dB]')\n",
    "plt.plot(frequency, phase_spectrum, c='red', linewidth=2.0,\n",
    "         linestyle=':', alpha=0.75, label='phase [rad]')\n",
    "plt.ylabel('magnitude [dB], phase [rad]')\n",
    "plt.xlabel('frequency [Hz]')\n",
    "plt.title('volume velocity transfer function')\n",
    "plt.legend()\n",
    "plt.tight_layout()\n",
    "print('\\nClose the plot in order to continue.')\n",
    "plt.show()"
   ]
  },
  {
   "cell_type": "code",
   "execution_count": null,
   "metadata": {},
   "outputs": [],
   "source": []
  }
 ],
 "metadata": {
  "kernelspec": {
   "display_name": "Python 3",
   "language": "python",
   "name": "python3"
  },
  "language_info": {
   "codemirror_mode": {
    "name": "ipython",
    "version": 3
   },
   "file_extension": ".py",
   "mimetype": "text/x-python",
   "name": "python",
   "nbconvert_exporter": "python",
   "pygments_lexer": "ipython3",
   "version": "3.6.5"
  }
 },
 "nbformat": 4,
 "nbformat_minor": 2
}
