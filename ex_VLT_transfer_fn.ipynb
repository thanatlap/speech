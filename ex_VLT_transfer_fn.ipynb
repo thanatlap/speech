{
 "cells": [
  {
   "cell_type": "markdown",
   "metadata": {},
   "source": [
    "This example shows how to obtain the volume velocity transfer function of the\n",
    "vocal tract based on vocal tract parameters for a certain phone in the speaker\n",
    "file.\n",
    "\n",
    "Look into example1.py for more thorough comments on how to interface\n",
    "vocaltractlab API from python3."
   ]
  },
  {
   "cell_type": "code",
   "execution_count": 1,
   "metadata": {},
   "outputs": [],
   "source": [
    "import ctypes\n",
    "import sys\n",
    "import matplotlib.pyplot as plt\n",
    "import numpy as np\n",
    "\n",
    "%matplotlib inline"
   ]
  },
  {
   "cell_type": "code",
   "execution_count": 2,
   "metadata": {},
   "outputs": [],
   "source": [
    "VTL = ctypes.cdll.LoadLibrary('vtlapi-2.1b/VocalTractLabApi64.so')"
   ]
  },
  {
   "cell_type": "code",
   "execution_count": 3,
   "metadata": {},
   "outputs": [
    {
     "name": "stdout",
     "output_type": "stream",
     "text": [
      "Compile date of the library: \"Mar 16 2016\"\n"
     ]
    }
   ],
   "source": [
    "version = ctypes.c_char_p(b'                                ')\n",
    "VTL.vtlGetVersion(version)\n",
    "print('Compile date of the library: \"%s\"' % version.value.decode())"
   ]
  },
  {
   "cell_type": "markdown",
   "metadata": {},
   "source": [
    "## Get some constants"
   ]
  },
  {
   "cell_type": "code",
   "execution_count": null,
   "metadata": {},
   "outputs": [],
   "source": [
    "audio_sampling_rate = ctypes.c_int(0)\n",
    "number_tube_sections = ctypes.c_int(0)\n",
    "number_vocal_tract_parameters = ctypes.c_int(0)\n",
    "number_glottis_parameters = ctypes.c_int(0)\n",
    "\n",
    "VTL.vtlGetConstants(ctypes.byref(audio_sampling_rate),\n",
    "                    ctypes.byref(number_tube_sections),\n",
    "                    ctypes.byref(number_vocal_tract_parameters),\n",
    "                    ctypes.byref(number_glottis_parameters))\n",
    "\n",
    "print('Audio sampling rate = %i' % audio_sampling_rate.value)\n",
    "print('Num. of tube sections = %i' % number_tube_sections.value)\n",
    "print('Num. of vocal tract parameters = %i' % number_vocal_tract_parameters.value)\n",
    "print('Num. of glottis parameters = %i' % number_glottis_parameters.value)"
   ]
  },
  {
   "cell_type": "markdown",
   "metadata": {},
   "source": [
    "## Get the vocal tract parameters \n",
    "- for the phone /a/, which are saved in the speaker file."
   ]
  },
  {
   "cell_type": "code",
   "execution_count": 1,
   "metadata": {},
   "outputs": [
    {
     "ename": "NameError",
     "evalue": "name 'ctypes' is not defined",
     "output_type": "error",
     "traceback": [
      "\u001b[0;31m---------------------------------------------------------------------------\u001b[0m",
      "\u001b[0;31mNameError\u001b[0m                                 Traceback (most recent call last)",
      "\u001b[0;32m<ipython-input-1-c77e8ef6605e>\u001b[0m in \u001b[0;36m<module>\u001b[0;34m()\u001b[0m\n\u001b[0;32m----> 1\u001b[0;31m \u001b[0mTRACT_PARAM_TYPE\u001b[0m \u001b[0;34m=\u001b[0m \u001b[0mctypes\u001b[0m\u001b[0;34m.\u001b[0m\u001b[0mc_double\u001b[0m \u001b[0;34m*\u001b[0m \u001b[0mnumber_vocal_tract_parameters\u001b[0m\u001b[0;34m.\u001b[0m\u001b[0mvalue\u001b[0m\u001b[0;34m\u001b[0m\u001b[0m\n\u001b[0m\u001b[1;32m      2\u001b[0m \u001b[0mshape_name\u001b[0m \u001b[0;34m=\u001b[0m \u001b[0mctypes\u001b[0m\u001b[0;34m.\u001b[0m\u001b[0mc_char_p\u001b[0m\u001b[0;34m(\u001b[0m\u001b[0;34mb'a'\u001b[0m\u001b[0;34m)\u001b[0m\u001b[0;34m\u001b[0m\u001b[0m\n\u001b[1;32m      3\u001b[0m \u001b[0mparams_a\u001b[0m \u001b[0;34m=\u001b[0m \u001b[0mTRACT_PARAM_TYPE\u001b[0m\u001b[0;34m(\u001b[0m\u001b[0;34m)\u001b[0m\u001b[0;34m\u001b[0m\u001b[0m\n\u001b[1;32m      4\u001b[0m \u001b[0;34m\u001b[0m\u001b[0m\n\u001b[1;32m      5\u001b[0m \u001b[0mfailure\u001b[0m \u001b[0;34m=\u001b[0m \u001b[0mVTL\u001b[0m\u001b[0;34m.\u001b[0m\u001b[0mvtlGetTractParams\u001b[0m\u001b[0;34m(\u001b[0m\u001b[0mshape_name\u001b[0m\u001b[0;34m,\u001b[0m \u001b[0mctypes\u001b[0m\u001b[0;34m.\u001b[0m\u001b[0mbyref\u001b[0m\u001b[0;34m(\u001b[0m\u001b[0mparams_a\u001b[0m\u001b[0;34m)\u001b[0m\u001b[0;34m)\u001b[0m\u001b[0;34m\u001b[0m\u001b[0m\n",
      "\u001b[0;31mNameError\u001b[0m: name 'ctypes' is not defined"
     ]
    }
   ],
   "source": [
    "TRACT_PARAM_TYPE = ctypes.c_double * number_vocal_tract_parameters.value\n",
    "shape_name = ctypes.c_char_p(b'a')\n",
    "params_a = TRACT_PARAM_TYPE()\n",
    "\n",
    "failure = VTL.vtlGetTractParams(shape_name, ctypes.byref(params_a))\n",
    "if failure != 0:\n",
    "    raise ValueError('Error in vtlGetTractParams! Errorcode: %i' % failure)"
   ]
  },
  {
   "cell_type": "markdown",
   "metadata": {},
   "source": [
    "## Extract transfer function"
   ]
  },
  {
   "cell_type": "code",
   "execution_count": null,
   "metadata": {},
   "outputs": [],
   "source": [
    "NUM_SPECTRUM_SAMPLES = 1024\n",
    "SPECTRUM_TYPE = ctypes.c_double * NUM_SPECTRUM_SAMPLES\n",
    "magnitude_spectrum = SPECTRUM_TYPE()\n",
    "phase_spectrum = SPECTRUM_TYPE()  # in radiants\n",
    "\n",
    "VTL.vtlGetTransferFunction(ctypes.byref(params_a),  # input\n",
    "                           NUM_SPECTRUM_SAMPLES,  # input\n",
    "                           ctypes.byref(magnitude_spectrum),  # output\n",
    "                           ctypes.byref(phase_spectrum))  # output\n",
    "\n",
    "print('First 40 data points for every vector:')\n",
    "print('  magnitude_spectrum: %s' % str(list(magnitude_spectrum)[:40]))\n",
    "print('  phase_spectrum: %s' % str(list(phase_spectrum)[:40]))"
   ]
  },
  {
   "cell_type": "markdown",
   "metadata": {},
   "source": [
    "## Destroy current state of VTL and free memory"
   ]
  },
  {
   "cell_type": "code",
   "execution_count": null,
   "metadata": {},
   "outputs": [],
   "source": [
    "VTL.vtlClose()"
   ]
  },
  {
   "cell_type": "markdown",
   "metadata": {},
   "source": [
    "## Plot and play transfer function"
   ]
  },
  {
   "cell_type": "code",
   "execution_count": null,
   "metadata": {},
   "outputs": [],
   "source": [
    "frequency = np.arange(NUM_SPECTRUM_SAMPLES)\n",
    "frequency *= float(audio_sampling_rate.value) / NUM_SPECTRUM_SAMPLES\n",
    "plt.plot(frequency, 20 * np.log10(magnitude_spectrum), c='black',\n",
    "         linewidth=2.0, alpha=0.75, label='magnitude [dB]')\n",
    "plt.plot(frequency, phase_spectrum, c='red', linewidth=2.0,\n",
    "         linestyle=':', alpha=0.75, label='phase [rad]')\n",
    "plt.ylabel('magnitude [dB], phase [rad]')\n",
    "plt.xlabel('frequency [Hz]')\n",
    "plt.title('volume velocity transfer function')\n",
    "plt.legend()\n",
    "plt.tight_layout()\n",
    "print('\\nClose the plot in order to continue.')\n",
    "plt.show()"
   ]
  }
 ],
 "metadata": {
  "kernelspec": {
   "display_name": "Python 3",
   "language": "python",
   "name": "python3"
  },
  "language_info": {
   "codemirror_mode": {
    "name": "ipython",
    "version": 3
   },
   "file_extension": ".py",
   "mimetype": "text/x-python",
   "name": "python",
   "nbconvert_exporter": "python",
   "pygments_lexer": "ipython3",
   "version": "3.6.5"
  }
 },
 "nbformat": 4,
 "nbformat_minor": 2
}
